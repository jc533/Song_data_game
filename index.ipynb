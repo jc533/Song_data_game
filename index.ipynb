{
 "cells": [
  {
   "cell_type": "code",
   "execution_count": 3,
   "metadata": {},
   "outputs": [],
   "source": [
    "import numpy as np\n",
    "import pandas as pd\n",
    "import matplotlib as plt"
   ]
  },
  {
   "cell_type": "code",
   "execution_count": 4,
   "metadata": {},
   "outputs": [],
   "source": [
    "file_path = \"datagame-2023/\"\n",
    "train = pd.read_parquet(f\"{file_path}/label_train_source.parquet\")\n",
    "test = pd.read_parquet(f\"{file_path}/label_test_source.parquet\")\n",
    "meta_category = [\"composer\",\"genre\",\"lyricist\",\"producer\",\"titletext\",\"\"]\n",
    "meta_data = {}\n",
    "meta = {}\n",
    "for i in meta_category:\n",
    "    if i!=\"\":\n",
    "        meta[i] = pd.read_parquet(f\"{file_path}/meta_song_{i}.parquet\")\n",
    "    else:\n",
    "        meta[\"song\"] = pd.read_parquet(f\"{file_path}/meta_song{i}.parquet\")\n"
   ]
  },
  {
   "cell_type": "code",
   "execution_count": 6,
   "metadata": {},
   "outputs": [
    {
     "data": {
      "text/html": [
       "<div>\n",
       "<style scoped>\n",
       "    .dataframe tbody tr th:only-of-type {\n",
       "        vertical-align: middle;\n",
       "    }\n",
       "\n",
       "    .dataframe tbody tr th {\n",
       "        vertical-align: top;\n",
       "    }\n",
       "\n",
       "    .dataframe thead th {\n",
       "        text-align: right;\n",
       "    }\n",
       "</style>\n",
       "<table border=\"1\" class=\"dataframe\">\n",
       "  <thead>\n",
       "    <tr style=\"text-align: right;\">\n",
       "      <th></th>\n",
       "      <th>session_id</th>\n",
       "      <th>song_id</th>\n",
       "      <th>unix_played_at</th>\n",
       "      <th>play_status</th>\n",
       "      <th>login_type</th>\n",
       "      <th>listening_order</th>\n",
       "    </tr>\n",
       "  </thead>\n",
       "  <tbody>\n",
       "    <tr>\n",
       "      <th>0</th>\n",
       "      <td>751</td>\n",
       "      <td>6027767fad949f3ca5e772df04924949</td>\n",
       "      <td>1659598909</td>\n",
       "      <td>1</td>\n",
       "      <td>7</td>\n",
       "      <td>1</td>\n",
       "    </tr>\n",
       "    <tr>\n",
       "      <th>1</th>\n",
       "      <td>751</td>\n",
       "      <td>041547bddb0a3e730f32db84c65868ca</td>\n",
       "      <td>1659599182</td>\n",
       "      <td>1</td>\n",
       "      <td>7</td>\n",
       "      <td>2</td>\n",
       "    </tr>\n",
       "    <tr>\n",
       "      <th>2</th>\n",
       "      <td>751</td>\n",
       "      <td>041547bddb0a3e730f32db84c65868ca</td>\n",
       "      <td>1659599184</td>\n",
       "      <td>0</td>\n",
       "      <td>7</td>\n",
       "      <td>3</td>\n",
       "    </tr>\n",
       "    <tr>\n",
       "      <th>3</th>\n",
       "      <td>751</td>\n",
       "      <td>041547bddb0a3e730f32db84c65868ca</td>\n",
       "      <td>1659599185</td>\n",
       "      <td>0</td>\n",
       "      <td>7</td>\n",
       "      <td>4</td>\n",
       "    </tr>\n",
       "    <tr>\n",
       "      <th>4</th>\n",
       "      <td>751</td>\n",
       "      <td>8b32f88104ecf859be934d9b45f30cd1</td>\n",
       "      <td>1659599218</td>\n",
       "      <td>1</td>\n",
       "      <td>7</td>\n",
       "      <td>5</td>\n",
       "    </tr>\n",
       "  </tbody>\n",
       "</table>\n",
       "</div>"
      ],
      "text/plain": [
       "   session_id                           song_id  unix_played_at  play_status  \\\n",
       "0         751  6027767fad949f3ca5e772df04924949      1659598909            1   \n",
       "1         751  041547bddb0a3e730f32db84c65868ca      1659599182            1   \n",
       "2         751  041547bddb0a3e730f32db84c65868ca      1659599184            0   \n",
       "3         751  041547bddb0a3e730f32db84c65868ca      1659599185            0   \n",
       "4         751  8b32f88104ecf859be934d9b45f30cd1      1659599218            1   \n",
       "\n",
       "   login_type  listening_order  \n",
       "0           7                1  \n",
       "1           7                2  \n",
       "2           7                3  \n",
       "3           7                4  \n",
       "4           7                5  "
      ]
     },
     "execution_count": 6,
     "metadata": {},
     "output_type": "execute_result"
    }
   ],
   "source": [
    "train.head()"
   ]
  }
 ],
 "metadata": {
  "kernelspec": {
   "display_name": "data_science",
   "language": "python",
   "name": "data_science"
  },
  "language_info": {
   "codemirror_mode": {
    "name": "ipython",
    "version": 3
   },
   "file_extension": ".py",
   "mimetype": "text/x-python",
   "name": "python",
   "nbconvert_exporter": "python",
   "pygments_lexer": "ipython3",
   "version": "3.11.5"
  }
 },
 "nbformat": 4,
 "nbformat_minor": 4
}
