{
 "cells": [
  {
   "cell_type": "code",
   "execution_count": 2,
   "metadata": {},
   "outputs": [],
   "source": [
    "import numpy as np\n",
    "import pandas as pd\n",
    "import matplotlib as plt"
   ]
  },
  {
   "cell_type": "code",
   "execution_count": 20,
   "metadata": {},
   "outputs": [],
   "source": [
    "file_path = \"datagame-2023/\"\n",
    "train = pd.read_parquet(f\"{file_path}/label_train_source.parquet\")\n",
    "test = pd.read_parquet(f\"{file_path}/label_test_source.parquet\")\n",
    "meta_category = [\"composer\",\"genre\",\"lyricist\",\"producer\",\"titletext\",\"\"]\n",
    "meta_data = {}\n",
    "for i in meta_category:\n",
    "    if i!=\"\":\n",
    "        meta[i] = pd.read_parquet(f\"{file_path}/meta_song_{i}.parquet\")\n",
    "    else:\n",
    "        meta[\"song\"] = pd.read_parquet(f\"{file_path}/meta_song{i}.parquet\")\n"
   ]
  },
  {
   "cell_type": "code",
   "execution_count": 22,
   "metadata": {},
   "outputs": [
    {
     "data": {
      "text/plain": [
       "song_id             0\n",
       "artist_id      128866\n",
       "song_length    128866\n",
       "album_id       323497\n",
       "language_id    323497\n",
       "album_month    323523\n",
       "dtype: int64"
      ]
     },
     "execution_count": 22,
     "metadata": {},
     "output_type": "execute_result"
    }
   ],
   "source": [
    "meta['song'].isna().sum()"
   ]
  }
 ],
 "metadata": {
  "kernelspec": {
   "display_name": "data_science",
   "language": "python",
   "name": "data_science"
  },
  "language_info": {
   "codemirror_mode": {
    "name": "ipython",
    "version": 3
   },
   "file_extension": ".py",
   "mimetype": "text/x-python",
   "name": "python",
   "nbconvert_exporter": "python",
   "pygments_lexer": "ipython3",
   "version": "3.11.5"
  }
 },
 "nbformat": 4,
 "nbformat_minor": 4
}
