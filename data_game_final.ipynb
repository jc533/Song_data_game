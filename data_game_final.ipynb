{
  "metadata": {
    "colab": {
      "provenance": [],
      "gpuType": "V100",
      "machine_shape": "hm"
    },
    "kernelspec": {
      "name": "python3",
      "display_name": "Python 3"
    },
    "language_info": {
      "name": "python",
      "version": "3.10.12",
      "mimetype": "text/x-python",
      "codemirror_mode": {
        "name": "ipython",
        "version": 3
      },
      "pygments_lexer": "ipython3",
      "nbconvert_exporter": "python",
      "file_extension": ".py"
    },
    "accelerator": "GPU",
    "kaggle": {
      "accelerator": "gpu",
      "dataSources": [
        {
          "sourceId": 7267992,
          "sourceType": "datasetVersion",
          "datasetId": 4204742
        },
        {
          "sourceId": 7268028,
          "sourceType": "datasetVersion",
          "datasetId": 4213033
        }
      ],
      "dockerImageVersionId": 30626,
      "isInternetEnabled": true,
      "language": "python",
      "sourceType": "notebook",
      "isGpuEnabled": true
    }
  },
  "nbformat_minor": 0,
  "nbformat": 4,
  "cells": [
    {
      "cell_type": "markdown",
      "source": [
        "<a href=\"https://colab.research.google.com/github/jc533/Song_data_game/blob/attackofthetitan-patch-1/data_game_preprocess.ipynb\" target=\"_parent\"><img src=\"https://colab.research.google.com/assets/colab-badge.svg\" alt=\"Open In Colab\"/></a>"
      ],
      "metadata": {
        "id": "view-in-github"
      }
    },
    {
      "cell_type": "markdown",
      "source": [
        "# method 1"
      ],
      "metadata": {
        "id": "8c5x5WKosvQD"
      }
    },
    {
      "cell_type": "markdown",
      "source": [
        "# import"
      ],
      "metadata": {
        "id": "KXJjBVBMNJPn"
      }
    },
    {
      "cell_type": "code",
      "source": [
        "import sys\n",
        "!cp ../input/rapids/rapids.0.14.0 /opt/conda/envs/rapids.tar.gz\n",
        "!cd /opt/conda/envs/ && tar -xzvf rapids.tar.gz > /dev/null\n",
        "sys.path = [\"/opt/conda/envs/rapids/lib/python3.10/site-packages\"] + sys.path\n",
        "sys.path = [\"/opt/conda/envs/rapids/lib/python3.10\"] + sys.path\n",
        "sys.path = [\"/opt/conda/envs/rapids/lib\"] + sys.path\n",
        "!cp /opt/conda/envs/rapids/lib/libxgboost.so /opt/conda/lib/\n",
        "import warnings\n",
        "warnings.filterwarnings('ignore')"
      ],
      "metadata": {
        "colab": {
          "base_uri": "https://localhost:8080/"
        },
        "id": "_ieuOo3m8whY",
        "outputId": "60a2bee0-8806-4c91-f1cc-c975e88445e3",
        "execution": {
          "iopub.status.busy": "2023-12-23T17:13:35.874865Z",
          "iopub.execute_input": "2023-12-23T17:13:35.875263Z",
          "iopub.status.idle": "2023-12-23T17:13:38.837795Z",
          "shell.execute_reply.started": "2023-12-23T17:13:35.875236Z",
          "shell.execute_reply": "2023-12-23T17:13:38.836620Z"
        },
        "trusted": true
      },
      "execution_count": null,
      "outputs": [
        {
          "output_type": "stream",
          "name": "stderr",
          "text": [
            "'cp' is not recognized as an internal or external command,\n",
            "operable program or batch file.\n",
            "The system cannot find the path specified.\n",
            "'cp' is not recognized as an internal or external command,\n",
            "operable program or batch file.\n"
          ]
        }
      ]
    },
    {
      "cell_type": "code",
      "source": [
        "import numba\n",
        "numba.set_num_threads(24)\n",
        "#numba.set_num_threads(8)"
      ],
      "metadata": {
        "id": "-QrH6ydIRPDX",
        "execution": {
          "iopub.status.busy": "2023-12-23T18:01:24.048630Z",
          "iopub.execute_input": "2023-12-23T18:01:24.048993Z",
          "iopub.status.idle": "2023-12-23T18:01:24.638675Z",
          "shell.execute_reply.started": "2023-12-23T18:01:24.048962Z",
          "shell.execute_reply": "2023-12-23T18:01:24.637926Z"
        },
        "trusted": true
      },
      "execution_count": null,
      "outputs": []
    },
    {
      "cell_type": "code",
      "source": [
        "#from google.colab import drive\n",
        "#drive.mount('/content/drive')"
      ],
      "metadata": {
        "id": "GhNRoHuaRnly"
      },
      "execution_count": null,
      "outputs": []
    },
    {
      "cell_type": "code",
      "source": [
        "import pandas as pd\n",
        "import numpy as np\n",
        "import os\n",
        "\n",
        "from sklearn.model_selection import train_test_split\n",
        "from sklearn.multioutput import MultiOutputRegressor\n",
        "from sklearn.preprocessing import OneHotEncoder, LabelEncoder\n",
        "from sklearn.preprocessing import MultiLabelBinarizer"
      ],
      "metadata": {
        "id": "d1k1Q8sHNCyz",
        "execution": {
          "iopub.status.busy": "2023-12-23T17:13:38.857990Z",
          "iopub.execute_input": "2023-12-23T17:13:38.858287Z",
          "iopub.status.idle": "2023-12-23T17:14:02.034420Z",
          "shell.execute_reply.started": "2023-12-23T17:13:38.858264Z",
          "shell.execute_reply": "2023-12-23T17:14:02.033437Z"
        },
        "trusted": true
      },
      "execution_count": null,
      "outputs": []
    },
    {
      "cell_type": "markdown",
      "source": [
        "# read file"
      ],
      "metadata": {
        "id": "OvicOet_NH8m"
      }
    },
    {
      "cell_type": "code",
      "source": [
        "#path = '/kaggle/input/datagame/datagame-2023'\n",
        "#path = \"/content/drive/MyDrive/ML/datagame-2023\"\n",
        "path = 'C:/Users/ethan/Downloads/datagame-2023'\n",
        "train = pd.read_parquet(f'{path}/label_train_source.parquet')\n",
        "test = pd.read_parquet(f'{path}/label_test_source.parquet')\n",
        "target = pd.read_parquet(f'{path}/label_train_target.parquet')\n",
        "composer = pd.read_parquet(f'{path}/meta_song_composer.parquet')\n",
        "genre = pd.read_parquet(f'{path}/meta_song_genre.parquet')\n",
        "lyricist = pd.read_parquet(f'{path}/meta_song_lyricist.parquet')\n",
        "producer = pd.read_parquet(f'{path}/meta_song_producer.parquet')\n",
        "titletext = pd.read_parquet(f'{path}/meta_song_titletext.parquet')\n",
        "song = pd.read_parquet(f'{path}/meta_song.parquet')\n"
      ],
      "metadata": {
        "id": "_tZy4YLqe85-",
        "execution": {
          "iopub.status.busy": "2023-12-23T17:14:02.038141Z",
          "iopub.execute_input": "2023-12-23T17:14:02.038768Z",
          "iopub.status.idle": "2023-12-23T17:14:08.297416Z",
          "shell.execute_reply.started": "2023-12-23T17:14:02.038731Z",
          "shell.execute_reply": "2023-12-23T17:14:08.296562Z"
        },
        "trusted": true
      },
      "execution_count": null,
      "outputs": []
    },
    {
      "cell_type": "markdown",
      "source": [
        "# Custom map\n"
      ],
      "metadata": {
        "id": "aKJwX8y4K8GG"
      }
    },
    {
      "cell_type": "code",
      "source": [
        "label_encoder = LabelEncoder()"
      ],
      "metadata": {
        "id": "xwUSlffOSryt"
      },
      "execution_count": null,
      "outputs": []
    },
    {
      "cell_type": "code",
      "source": [
        "tmp = pd.DataFrame()\n",
        "tmp[\"song_id\"] = song[\"song_id\"]\n",
        "label_encoder.fit(tmp[\"song_id\"])\n",
        "unmapping = dict(zip(label_encoder.transform(label_encoder.classes_,),label_encoder.classes_))\n",
        "mapping = dict(zip(label_encoder.classes_,label_encoder.transform(label_encoder.classes_,)))"
      ],
      "metadata": {
        "id": "WhjFb14HxvD4",
        "execution": {
          "iopub.status.busy": "2023-12-23T17:14:08.298623Z",
          "iopub.execute_input": "2023-12-23T17:14:08.298916Z",
          "iopub.status.idle": "2023-12-23T17:14:14.829993Z",
          "shell.execute_reply.started": "2023-12-23T17:14:08.298891Z",
          "shell.execute_reply": "2023-12-23T17:14:14.828996Z"
        },
        "trusted": true
      },
      "execution_count": null,
      "outputs": []
    },
    {
      "cell_type": "markdown",
      "source": [
        "# Feature engineer genre"
      ],
      "metadata": {
        "id": "uM3KBBVaLFXw"
      }
    },
    {
      "cell_type": "code",
      "source": [
        "mlb = MultiLabelBinarizer(classes=genre['genre_id'].unique())\n",
        "genre_df = pd.DataFrame(mlb.fit_transform(genre['genre_id']),columns=genre['genre_id'].unique())\n",
        "genre_df = pd.concat([genre['song_id'], genre_df], axis=1)\n",
        "genre_df = genre_df.groupby('song_id').sum().reset_index()"
      ],
      "metadata": {
        "id": "ErB46mUyV4Px",
        "execution": {
          "iopub.status.busy": "2023-12-23T17:14:14.831319Z",
          "iopub.execute_input": "2023-12-23T17:14:14.831634Z",
          "iopub.status.idle": "2023-12-23T17:14:37.401965Z",
          "shell.execute_reply.started": "2023-12-23T17:14:14.831608Z",
          "shell.execute_reply": "2023-12-23T17:14:37.401027Z"
        },
        "trusted": true
      },
      "execution_count": null,
      "outputs": []
    },
    {
      "cell_type": "markdown",
      "source": [
        "# merge data\n"
      ],
      "metadata": {
        "id": "mSEWc4rWjtWY"
      }
    },
    {
      "cell_type": "code",
      "source": [
        "song.drop(['song_length', 'album_id', 'album_month'], axis=1, inplace=True)\n",
        "train_d = train.drop(['unix_played_at', 'play_status', 'login_type',], axis=1, )\n",
        "test_d = test.drop(['unix_played_at', 'play_status', 'login_type', ], axis=1, )\n",
        "target_d = target.drop(['unix_played_at', 'play_status', 'login_type', ], axis=1, )"
      ],
      "metadata": {
        "id": "fdfGPTS3J0aG"
      },
      "execution_count": null,
      "outputs": []
    },
    {
      "cell_type": "code",
      "source": [
        "#song_data = pd.concat([train, target])\n",
        "#song_data = song_data.sort_values(by=['session_id', 'listening_order'])\n",
        "#song_data = pd.merge(train, target, on='session_id', how='inner')\n",
        "song_data = pd.merge(train_d, song, on='song_id', how='left')\n",
        "#song_data = pd.merge(song_data, composer, on='song_id', how='left')\n",
        "song_data = pd.merge(song_data, genre_df, on='song_id', how='left')\n",
        "#song_data = pd.merge(song_data, lyricist, on='song_id', how='left')\n",
        "#song_data = pd.merge(song_data, producer, on='song_id', how='left')\n",
        "#song_data = pd.merge(song_data, titletext, on='song_id', how='left')\n",
        "song_vali = pd.merge(target_d, song, on='song_id', how='left')\n",
        "#song_vali = pd.merge(song_vali, composer, on='song_id', how='left')\n",
        "song_vali = pd.merge(song_vali, genre_df, on='song_id', how='left')\n",
        "#song_vali = pd.merge(song_vali, lyricist, on='song_id', how='left')\n",
        "#song_vali = pd.merge(song_vali, producer, on='song_id', how='left')\n",
        "#song_vali = pd.merge(song_vali, titletext, on='song_id', how='left')\n"
      ],
      "metadata": {
        "id": "MJgqR-6NjvvT",
        "execution": {
          "iopub.status.busy": "2023-12-23T17:14:37.405329Z",
          "iopub.execute_input": "2023-12-23T17:14:37.405647Z",
          "iopub.status.idle": "2023-12-23T17:14:55.178717Z",
          "shell.execute_reply.started": "2023-12-23T17:14:37.405622Z",
          "shell.execute_reply": "2023-12-23T17:14:55.177830Z"
        },
        "trusted": true
      },
      "execution_count": null,
      "outputs": []
    },
    {
      "cell_type": "code",
      "source": [
        "print(song_data.shape)"
      ],
      "metadata": {
        "id": "bA7ewE3yETc1",
        "colab": {
          "base_uri": "https://localhost:8080/"
        },
        "outputId": "b9099add-c380-4667-83e1-c98f50d32105",
        "execution": {
          "iopub.status.busy": "2023-12-23T17:14:55.179806Z",
          "iopub.execute_input": "2023-12-23T17:14:55.180082Z",
          "iopub.status.idle": "2023-12-23T17:14:55.185266Z",
          "shell.execute_reply.started": "2023-12-23T17:14:55.180058Z",
          "shell.execute_reply": "2023-12-23T17:14:55.184326Z"
        },
        "trusted": true
      },
      "execution_count": null,
      "outputs": [
        {
          "output_type": "stream",
          "name": "stdout",
          "text": [
            "(11445180, 43)\n"
          ]
        }
      ]
    },
    {
      "cell_type": "code",
      "source": [
        "song_test = pd.merge(test_d, song, on='song_id', how='left')\n",
        "#song_test = pd.merge(song_test, composer, on='song_id', how='left', validate='m:1')\n",
        "song_test = pd.merge(song_test, genre_df, on='song_id', how='left')\n",
        "#song_test = pd.merge(song_test, lyricist, on='song_id', how='left')\n",
        "#song_test = pd.merge(song_test, producer, on='song_id', how='left')\n",
        "#song_test = pd.merge(song_test, titletext, on='song_id', how='left')\n",
        "print(test.shape)\n",
        "print(song_test.shape)"
      ],
      "metadata": {
        "id": "22b4Sx8dDDPY",
        "colab": {
          "base_uri": "https://localhost:8080/"
        },
        "outputId": "b010c25b-2dd8-4dd8-9472-0b1371a7b712",
        "execution": {
          "iopub.status.busy": "2023-12-23T17:14:55.394386Z",
          "iopub.execute_input": "2023-12-23T17:14:55.394706Z",
          "iopub.status.idle": "2023-12-23T17:14:59.325526Z",
          "shell.execute_reply.started": "2023-12-23T17:14:55.394680Z",
          "shell.execute_reply": "2023-12-23T17:14:59.324627Z"
        },
        "trusted": true
      },
      "execution_count": null,
      "outputs": [
        {
          "output_type": "stream",
          "name": "stdout",
          "text": [
            "(2861280, 6)\n",
            "(2861280, 43)\n"
          ]
        }
      ]
    },
    {
      "cell_type": "code",
      "source": [
        "song_data.drop_duplicates(subset=['session_id', 'song_id', 'listening_order'], inplace=True)\n",
        "song_vali.drop_duplicates(subset=['session_id', 'song_id', 'listening_order'], inplace=True)\n",
        "print(song_data.shape)\n",
        "print(song_vali.shape)"
      ],
      "metadata": {
        "id": "jhiQ3BaB5yk9",
        "execution": {
          "iopub.status.busy": "2023-12-23T17:14:59.326771Z",
          "iopub.execute_input": "2023-12-23T17:14:59.327056Z",
          "iopub.status.idle": "2023-12-23T17:15:09.728483Z",
          "shell.execute_reply.started": "2023-12-23T17:14:59.327032Z",
          "shell.execute_reply": "2023-12-23T17:15:09.727460Z"
        },
        "trusted": true,
        "colab": {
          "base_uri": "https://localhost:8080/"
        },
        "outputId": "fb591081-11fe-4531-e23f-afe847719e06"
      },
      "execution_count": null,
      "outputs": [
        {
          "output_type": "stream",
          "name": "stdout",
          "text": [
            "(11445180, 43)\n",
            "(2861295, 43)\n"
          ]
        }
      ]
    },
    {
      "cell_type": "code",
      "source": [
        "song_data.drop(['listening_order'], axis=1, inplace=True)\n",
        "song_vali.drop(['listening_order'], axis=1, inplace=True)\n",
        "song_test.drop(['listening_order'], axis=1, inplace=True)"
      ],
      "metadata": {
        "id": "Bzw_iwGxoOuI"
      },
      "execution_count": null,
      "outputs": []
    },
    {
      "cell_type": "code",
      "source": [
        "for i in song_data.select_dtypes(include=['object']).columns:\n",
        "  song_data[i][song_data[i].isnull()] = 'unknown'\n",
        "song_data = song_data.fillna(value=0)\n",
        "\n",
        "for i in song_vali.select_dtypes(include=['object']).columns:\n",
        "  song_vali[i][song_vali[i].isnull()] = 'unknown'\n",
        "song_vali = song_vali.fillna(value=0)\n",
        "\n",
        "\n",
        "for i in song_test.select_dtypes(include=['object']).columns:\n",
        "  song_test[i][song_test[i].isnull()] = 'unknown'\n",
        "song_test = song_test.fillna(value=0)\n",
        "\n",
        "\n",
        "encol = [ x for x in song_data.columns if x not in [\"song_id\"] ]\n",
        "for i in encol:\n",
        "  song_data[i] = label_encoder.fit_transform(song_data[i])\n",
        "encol = [ x for x in song_vali.columns if x not in [\"song_id\"] ]\n",
        "for i in encol:\n",
        "  song_vali[i] = label_encoder.fit_transform(song_vali[i])\n",
        "encol = [ x for x in song_test.columns if x not in [\"song_id\",\"session_id\"] ]\n",
        "for i in encol:\n",
        "  song_test[i] = label_encoder.fit_transform(song_test[i])\n",
        "\n",
        "label_encoder.fit(song_test[\"session_id\"])\n",
        "\n",
        "sess_unmapping = dict(zip(label_encoder.transform(label_encoder.classes_,),label_encoder.classes_))\n",
        "song_test[\"session_id\"] = label_encoder.fit_transform(song_test[\"session_id\"])\n",
        "\n",
        "song_data[\"song_id\"] = song_data[\"song_id\"].map(mapping)\n",
        "song_vali[\"song_id\"] = song_vali[\"song_id\"].map(mapping)\n",
        "song_test[\"song_id\"] = song_test[\"song_id\"].map(mapping)\n",
        "\n",
        "song_data.reset_index(drop=True)\n",
        "song_vali.reset_index(drop=True)\n",
        "song_test.reset_index(drop=True)"
      ],
      "metadata": {
        "id": "EBXbZ6s6Y2te",
        "colab": {
          "base_uri": "https://localhost:8080/",
          "height": 443
        },
        "outputId": "01b7a5a2-476c-4abb-efb6-c592c085e4ed",
        "execution": {
          "iopub.status.busy": "2023-12-23T17:15:23.828919Z",
          "iopub.execute_input": "2023-12-23T17:15:23.829800Z",
          "iopub.status.idle": "2023-12-23T17:16:52.515523Z",
          "shell.execute_reply.started": "2023-12-23T17:15:23.829766Z",
          "shell.execute_reply": "2023-12-23T17:16:52.514617Z"
        },
        "trusted": true
      },
      "execution_count": null,
      "outputs": [
        {
          "output_type": "execute_result",
          "data": {
            "text/plain": [
              "         session_id  song_id  artist_id  language_id  \\\n",
              "0               118   271639       5333           12   \n",
              "1               118   589665       4126           12   \n",
              "2               118   331055        165            8   \n",
              "3               118   297816       1693           12   \n",
              "4               118   759365       4379            0   \n",
              "...             ...      ...        ...          ...   \n",
              "2861275      142898    80547      48613            8   \n",
              "2861276      142898   659924      48613            8   \n",
              "2861277      142898   626741      48613            8   \n",
              "2861278      142898   909527      48613            8   \n",
              "2861279      142898   858839      48613            8   \n",
              "\n",
              "         b856b6781d370a3645c6dde0c20b3597  2eabe9f164346c7b3ff1bd23078f483e  \\\n",
              "0                                       0                                 0   \n",
              "1                                       0                                 0   \n",
              "2                                       0                                 0   \n",
              "3                                       0                                 0   \n",
              "4                                       0                                 0   \n",
              "...                                   ...                               ...   \n",
              "2861275                                 0                                 0   \n",
              "2861276                                 0                                 0   \n",
              "2861277                                 0                                 0   \n",
              "2861278                                 0                                 0   \n",
              "2861279                                 0                                 0   \n",
              "\n",
              "         bb3d7b04b67d5aeb5ab145bdd70750da  ce4db56f6a48426643b08038139a8a75  \\\n",
              "0                                       0                                 0   \n",
              "1                                       0                                 0   \n",
              "2                                       0                                 0   \n",
              "3                                       0                                 0   \n",
              "4                                       0                                 0   \n",
              "...                                   ...                               ...   \n",
              "2861275                                 0                                 0   \n",
              "2861276                                 0                                 0   \n",
              "2861277                                 0                                 0   \n",
              "2861278                                 0                                 0   \n",
              "2861279                                 0                                 0   \n",
              "\n",
              "         43244ec4c30a0dad837d982892bc0c05  bb737ea7450c3abbab1ff613a2c6309e  \\\n",
              "0                                       0                                 0   \n",
              "1                                       0                                 0   \n",
              "2                                       0                                 0   \n",
              "3                                       0                                 0   \n",
              "4                                       0                                 0   \n",
              "...                                   ...                               ...   \n",
              "2861275                                 0                                 0   \n",
              "2861276                                 0                                 0   \n",
              "2861277                                 0                                 0   \n",
              "2861278                                 0                                 0   \n",
              "2861279                                 0                                 0   \n",
              "\n",
              "         ...  1f4b914a79eb2bb01c2ea694af626625  \\\n",
              "0        ...                                 0   \n",
              "1        ...                                 0   \n",
              "2        ...                                 0   \n",
              "3        ...                                 0   \n",
              "4        ...                                 0   \n",
              "...      ...                               ...   \n",
              "2861275  ...                                 0   \n",
              "2861276  ...                                 0   \n",
              "2861277  ...                                 0   \n",
              "2861278  ...                                 0   \n",
              "2861279  ...                                 0   \n",
              "\n",
              "         03c358e326d99a3863e044c5d8e9fb50  d36204de09c0c6084d55b1f484a23773  \\\n",
              "0                                       0                                 0   \n",
              "1                                       0                                 0   \n",
              "2                                       0                                 0   \n",
              "3                                       0                                 0   \n",
              "4                                       0                                 0   \n",
              "...                                   ...                               ...   \n",
              "2861275                                 0                                 0   \n",
              "2861276                                 0                                 0   \n",
              "2861277                                 0                                 0   \n",
              "2861278                                 0                                 0   \n",
              "2861279                                 0                                 0   \n",
              "\n",
              "         f6f02545c1905a8c72c5bf006579996e  ee1696df08c0ac6005e3b9442cdbbded  \\\n",
              "0                                       0                                 0   \n",
              "1                                       0                                 0   \n",
              "2                                       0                                 0   \n",
              "3                                       0                                 0   \n",
              "4                                       0                                 0   \n",
              "...                                   ...                               ...   \n",
              "2861275                                 0                                 0   \n",
              "2861276                                 0                                 0   \n",
              "2861277                                 0                                 0   \n",
              "2861278                                 0                                 0   \n",
              "2861279                                 0                                 0   \n",
              "\n",
              "         1a619fcf3adfd91711699b7e2cf2c367  80117354556efbf237f0020bea2f7e42  \\\n",
              "0                                       0                                 0   \n",
              "1                                       0                                 0   \n",
              "2                                       0                                 0   \n",
              "3                                       0                                 0   \n",
              "4                                       0                                 0   \n",
              "...                                   ...                               ...   \n",
              "2861275                                 0                                 0   \n",
              "2861276                                 0                                 0   \n",
              "2861277                                 0                                 0   \n",
              "2861278                                 0                                 0   \n",
              "2861279                                 0                                 0   \n",
              "\n",
              "         c3ad773a264597f9f46c2d666e1a8b50  74694a488312db91fcd56818fed8b3a6  \\\n",
              "0                                       0                                 0   \n",
              "1                                       0                                 0   \n",
              "2                                       0                                 0   \n",
              "3                                       0                                 0   \n",
              "4                                       0                                 0   \n",
              "...                                   ...                               ...   \n",
              "2861275                                 0                                 0   \n",
              "2861276                                 0                                 0   \n",
              "2861277                                 0                                 0   \n",
              "2861278                                 0                                 0   \n",
              "2861279                                 0                                 0   \n",
              "\n",
              "         5455e1699025b025a3523aba4719e818  \n",
              "0                                       0  \n",
              "1                                       0  \n",
              "2                                       0  \n",
              "3                                       0  \n",
              "4                                       0  \n",
              "...                                   ...  \n",
              "2861275                                 0  \n",
              "2861276                                 0  \n",
              "2861277                                 0  \n",
              "2861278                                 0  \n",
              "2861279                                 0  \n",
              "\n",
              "[2861280 rows x 42 columns]"
            ],
            "text/html": [
              "<div>\n",
              "<style scoped>\n",
              "    .dataframe tbody tr th:only-of-type {\n",
              "        vertical-align: middle;\n",
              "    }\n",
              "\n",
              "    .dataframe tbody tr th {\n",
              "        vertical-align: top;\n",
              "    }\n",
              "\n",
              "    .dataframe thead th {\n",
              "        text-align: right;\n",
              "    }\n",
              "</style>\n",
              "<table border=\"1\" class=\"dataframe\">\n",
              "  <thead>\n",
              "    <tr style=\"text-align: right;\">\n",
              "      <th></th>\n",
              "      <th>session_id</th>\n",
              "      <th>song_id</th>\n",
              "      <th>artist_id</th>\n",
              "      <th>language_id</th>\n",
              "      <th>b856b6781d370a3645c6dde0c20b3597</th>\n",
              "      <th>2eabe9f164346c7b3ff1bd23078f483e</th>\n",
              "      <th>bb3d7b04b67d5aeb5ab145bdd70750da</th>\n",
              "      <th>ce4db56f6a48426643b08038139a8a75</th>\n",
              "      <th>43244ec4c30a0dad837d982892bc0c05</th>\n",
              "      <th>bb737ea7450c3abbab1ff613a2c6309e</th>\n",
              "      <th>...</th>\n",
              "      <th>1f4b914a79eb2bb01c2ea694af626625</th>\n",
              "      <th>03c358e326d99a3863e044c5d8e9fb50</th>\n",
              "      <th>d36204de09c0c6084d55b1f484a23773</th>\n",
              "      <th>f6f02545c1905a8c72c5bf006579996e</th>\n",
              "      <th>ee1696df08c0ac6005e3b9442cdbbded</th>\n",
              "      <th>1a619fcf3adfd91711699b7e2cf2c367</th>\n",
              "      <th>80117354556efbf237f0020bea2f7e42</th>\n",
              "      <th>c3ad773a264597f9f46c2d666e1a8b50</th>\n",
              "      <th>74694a488312db91fcd56818fed8b3a6</th>\n",
              "      <th>5455e1699025b025a3523aba4719e818</th>\n",
              "    </tr>\n",
              "  </thead>\n",
              "  <tbody>\n",
              "    <tr>\n",
              "      <th>0</th>\n",
              "      <td>118</td>\n",
              "      <td>271639</td>\n",
              "      <td>5333</td>\n",
              "      <td>12</td>\n",
              "      <td>0</td>\n",
              "      <td>0</td>\n",
              "      <td>0</td>\n",
              "      <td>0</td>\n",
              "      <td>0</td>\n",
              "      <td>0</td>\n",
              "      <td>...</td>\n",
              "      <td>0</td>\n",
              "      <td>0</td>\n",
              "      <td>0</td>\n",
              "      <td>0</td>\n",
              "      <td>0</td>\n",
              "      <td>0</td>\n",
              "      <td>0</td>\n",
              "      <td>0</td>\n",
              "      <td>0</td>\n",
              "      <td>0</td>\n",
              "    </tr>\n",
              "    <tr>\n",
              "      <th>1</th>\n",
              "      <td>118</td>\n",
              "      <td>589665</td>\n",
              "      <td>4126</td>\n",
              "      <td>12</td>\n",
              "      <td>0</td>\n",
              "      <td>0</td>\n",
              "      <td>0</td>\n",
              "      <td>0</td>\n",
              "      <td>0</td>\n",
              "      <td>0</td>\n",
              "      <td>...</td>\n",
              "      <td>0</td>\n",
              "      <td>0</td>\n",
              "      <td>0</td>\n",
              "      <td>0</td>\n",
              "      <td>0</td>\n",
              "      <td>0</td>\n",
              "      <td>0</td>\n",
              "      <td>0</td>\n",
              "      <td>0</td>\n",
              "      <td>0</td>\n",
              "    </tr>\n",
              "    <tr>\n",
              "      <th>2</th>\n",
              "      <td>118</td>\n",
              "      <td>331055</td>\n",
              "      <td>165</td>\n",
              "      <td>8</td>\n",
              "      <td>0</td>\n",
              "      <td>0</td>\n",
              "      <td>0</td>\n",
              "      <td>0</td>\n",
              "      <td>0</td>\n",
              "      <td>0</td>\n",
              "      <td>...</td>\n",
              "      <td>0</td>\n",
              "      <td>0</td>\n",
              "      <td>0</td>\n",
              "      <td>0</td>\n",
              "      <td>0</td>\n",
              "      <td>0</td>\n",
              "      <td>0</td>\n",
              "      <td>0</td>\n",
              "      <td>0</td>\n",
              "      <td>0</td>\n",
              "    </tr>\n",
              "    <tr>\n",
              "      <th>3</th>\n",
              "      <td>118</td>\n",
              "      <td>297816</td>\n",
              "      <td>1693</td>\n",
              "      <td>12</td>\n",
              "      <td>0</td>\n",
              "      <td>0</td>\n",
              "      <td>0</td>\n",
              "      <td>0</td>\n",
              "      <td>0</td>\n",
              "      <td>0</td>\n",
              "      <td>...</td>\n",
              "      <td>0</td>\n",
              "      <td>0</td>\n",
              "      <td>0</td>\n",
              "      <td>0</td>\n",
              "      <td>0</td>\n",
              "      <td>0</td>\n",
              "      <td>0</td>\n",
              "      <td>0</td>\n",
              "      <td>0</td>\n",
              "      <td>0</td>\n",
              "    </tr>\n",
              "    <tr>\n",
              "      <th>4</th>\n",
              "      <td>118</td>\n",
              "      <td>759365</td>\n",
              "      <td>4379</td>\n",
              "      <td>0</td>\n",
              "      <td>0</td>\n",
              "      <td>0</td>\n",
              "      <td>0</td>\n",
              "      <td>0</td>\n",
              "      <td>0</td>\n",
              "      <td>0</td>\n",
              "      <td>...</td>\n",
              "      <td>0</td>\n",
              "      <td>0</td>\n",
              "      <td>0</td>\n",
              "      <td>0</td>\n",
              "      <td>0</td>\n",
              "      <td>0</td>\n",
              "      <td>0</td>\n",
              "      <td>0</td>\n",
              "      <td>0</td>\n",
              "      <td>0</td>\n",
              "    </tr>\n",
              "    <tr>\n",
              "      <th>...</th>\n",
              "      <td>...</td>\n",
              "      <td>...</td>\n",
              "      <td>...</td>\n",
              "      <td>...</td>\n",
              "      <td>...</td>\n",
              "      <td>...</td>\n",
              "      <td>...</td>\n",
              "      <td>...</td>\n",
              "      <td>...</td>\n",
              "      <td>...</td>\n",
              "      <td>...</td>\n",
              "      <td>...</td>\n",
              "      <td>...</td>\n",
              "      <td>...</td>\n",
              "      <td>...</td>\n",
              "      <td>...</td>\n",
              "      <td>...</td>\n",
              "      <td>...</td>\n",
              "      <td>...</td>\n",
              "      <td>...</td>\n",
              "      <td>...</td>\n",
              "    </tr>\n",
              "    <tr>\n",
              "      <th>2861275</th>\n",
              "      <td>142898</td>\n",
              "      <td>80547</td>\n",
              "      <td>48613</td>\n",
              "      <td>8</td>\n",
              "      <td>0</td>\n",
              "      <td>0</td>\n",
              "      <td>0</td>\n",
              "      <td>0</td>\n",
              "      <td>0</td>\n",
              "      <td>0</td>\n",
              "      <td>...</td>\n",
              "      <td>0</td>\n",
              "      <td>0</td>\n",
              "      <td>0</td>\n",
              "      <td>0</td>\n",
              "      <td>0</td>\n",
              "      <td>0</td>\n",
              "      <td>0</td>\n",
              "      <td>0</td>\n",
              "      <td>0</td>\n",
              "      <td>0</td>\n",
              "    </tr>\n",
              "    <tr>\n",
              "      <th>2861276</th>\n",
              "      <td>142898</td>\n",
              "      <td>659924</td>\n",
              "      <td>48613</td>\n",
              "      <td>8</td>\n",
              "      <td>0</td>\n",
              "      <td>0</td>\n",
              "      <td>0</td>\n",
              "      <td>0</td>\n",
              "      <td>0</td>\n",
              "      <td>0</td>\n",
              "      <td>...</td>\n",
              "      <td>0</td>\n",
              "      <td>0</td>\n",
              "      <td>0</td>\n",
              "      <td>0</td>\n",
              "      <td>0</td>\n",
              "      <td>0</td>\n",
              "      <td>0</td>\n",
              "      <td>0</td>\n",
              "      <td>0</td>\n",
              "      <td>0</td>\n",
              "    </tr>\n",
              "    <tr>\n",
              "      <th>2861277</th>\n",
              "      <td>142898</td>\n",
              "      <td>626741</td>\n",
              "      <td>48613</td>\n",
              "      <td>8</td>\n",
              "      <td>0</td>\n",
              "      <td>0</td>\n",
              "      <td>0</td>\n",
              "      <td>0</td>\n",
              "      <td>0</td>\n",
              "      <td>0</td>\n",
              "      <td>...</td>\n",
              "      <td>0</td>\n",
              "      <td>0</td>\n",
              "      <td>0</td>\n",
              "      <td>0</td>\n",
              "      <td>0</td>\n",
              "      <td>0</td>\n",
              "      <td>0</td>\n",
              "      <td>0</td>\n",
              "      <td>0</td>\n",
              "      <td>0</td>\n",
              "    </tr>\n",
              "    <tr>\n",
              "      <th>2861278</th>\n",
              "      <td>142898</td>\n",
              "      <td>909527</td>\n",
              "      <td>48613</td>\n",
              "      <td>8</td>\n",
              "      <td>0</td>\n",
              "      <td>0</td>\n",
              "      <td>0</td>\n",
              "      <td>0</td>\n",
              "      <td>0</td>\n",
              "      <td>0</td>\n",
              "      <td>...</td>\n",
              "      <td>0</td>\n",
              "      <td>0</td>\n",
              "      <td>0</td>\n",
              "      <td>0</td>\n",
              "      <td>0</td>\n",
              "      <td>0</td>\n",
              "      <td>0</td>\n",
              "      <td>0</td>\n",
              "      <td>0</td>\n",
              "      <td>0</td>\n",
              "    </tr>\n",
              "    <tr>\n",
              "      <th>2861279</th>\n",
              "      <td>142898</td>\n",
              "      <td>858839</td>\n",
              "      <td>48613</td>\n",
              "      <td>8</td>\n",
              "      <td>0</td>\n",
              "      <td>0</td>\n",
              "      <td>0</td>\n",
              "      <td>0</td>\n",
              "      <td>0</td>\n",
              "      <td>0</td>\n",
              "      <td>...</td>\n",
              "      <td>0</td>\n",
              "      <td>0</td>\n",
              "      <td>0</td>\n",
              "      <td>0</td>\n",
              "      <td>0</td>\n",
              "      <td>0</td>\n",
              "      <td>0</td>\n",
              "      <td>0</td>\n",
              "      <td>0</td>\n",
              "      <td>0</td>\n",
              "    </tr>\n",
              "  </tbody>\n",
              "</table>\n",
              "<p>2861280 rows × 42 columns</p>\n",
              "</div>"
            ]
          },
          "metadata": {},
          "execution_count": 91
        }
      ]
    },
    {
      "cell_type": "code",
      "source": [
        "print(song_data.shape[0]/20)\n",
        "print(song_vali.shape[0]/5)\n",
        "print(song_test.shape[0]/20)"
      ],
      "metadata": {
        "id": "a1fZ0dcX8ljC",
        "colab": {
          "base_uri": "https://localhost:8080/"
        },
        "outputId": "bf6c8d9a-0a41-4cf2-c91d-c6c6ec528a10",
        "execution": {
          "iopub.status.busy": "2023-12-23T17:17:10.049999Z",
          "iopub.execute_input": "2023-12-23T17:17:10.050733Z",
          "iopub.status.idle": "2023-12-23T17:17:10.056715Z",
          "shell.execute_reply.started": "2023-12-23T17:17:10.050698Z",
          "shell.execute_reply": "2023-12-23T17:17:10.055833Z"
        },
        "trusted": true
      },
      "execution_count": null,
      "outputs": [
        {
          "output_type": "stream",
          "name": "stdout",
          "text": [
            "572259.0\n",
            "572259.0\n",
            "143064.0\n"
          ]
        }
      ]
    },
    {
      "cell_type": "code",
      "source": [
        "training = song_data.groupby('session_id')\n",
        "targeting = song_vali.groupby('session_id')\n",
        "testing = song_test.groupby('session_id')"
      ],
      "metadata": {
        "id": "tlKH02o2gf9F",
        "execution": {
          "iopub.status.busy": "2023-12-23T17:17:38.190408Z",
          "iopub.execute_input": "2023-12-23T17:17:38.191348Z",
          "iopub.status.idle": "2023-12-23T17:17:38.196198Z",
          "shell.execute_reply.started": "2023-12-23T17:17:38.191312Z",
          "shell.execute_reply": "2023-12-23T17:17:38.195305Z"
        },
        "trusted": true
      },
      "execution_count": null,
      "outputs": []
    },
    {
      "cell_type": "code",
      "source": [
        "print(song_data.isna().sum())\n",
        "print(song_vali.isna().sum())\n",
        "print(song_test.isna().sum())"
      ],
      "metadata": {
        "colab": {
          "base_uri": "https://localhost:8080/"
        },
        "id": "5W1oxVgdT9cH",
        "outputId": "d752e32c-b041-4292-d917-95f3dd933531"
      },
      "execution_count": null,
      "outputs": [
        {
          "output_type": "stream",
          "name": "stdout",
          "text": [
            "session_id                          0\n",
            "song_id                             0\n",
            "artist_id                           0\n",
            "language_id                         0\n",
            "b856b6781d370a3645c6dde0c20b3597    0\n",
            "2eabe9f164346c7b3ff1bd23078f483e    0\n",
            "bb3d7b04b67d5aeb5ab145bdd70750da    0\n",
            "ce4db56f6a48426643b08038139a8a75    0\n",
            "43244ec4c30a0dad837d982892bc0c05    0\n",
            "bb737ea7450c3abbab1ff613a2c6309e    0\n",
            "5f2a134d2289a8a3de6663ee8e248c8a    0\n",
            "6ea61b86b8fff0e3a05bc73ea4eaf21f    0\n",
            "1d7c8bb87dcc1457ed90240c06f9ebdf    0\n",
            "abdc0a50aff67c591737bc6f57a36e09    0\n",
            "5d7d428b81ab3429f189bbc642548b53    0\n",
            "a2a4a0943fe2c5fe6891d9c34dca906f    0\n",
            "a3b51d979053a7f49511b9ab72ee8878    0\n",
            "e1d5802bb4e0f6ab79b2b9f4a5ff924b    0\n",
            "d9ab2ffb929a854e208efaf5297b7cf8    0\n",
            "c1d8909eff8a140e7bd0c11508f76dbe    0\n",
            "65aeeca3341ca1c6a2ed774aa4e22add    0\n",
            "09994f2b6bf22721e7379df4e22b1041    0\n",
            "ed514a72b48a9d15df7bc4c25eac2c67    0\n",
            "56203098bef705a44fee44ac0d9b7ef2    0\n",
            "23ae47469cc0a10de43c453ab59c87b4    0\n",
            "4c4ce52d6f6a0e495c407b584ef3e020    0\n",
            "7ed5eec2ea6f0208d27f78ef120e52fa    0\n",
            "b5e874310bf96c3fe29c54a01b982ad7    0\n",
            "d48233dd673e7ba524a5a0e3389d39b9    0\n",
            "398e2d0befb1c6979e77e5ff7c3fcf07    0\n",
            "157479e86322e5063bce2488bec94d88    0\n",
            "1619db5683958ba19927468990d5ba44    0\n",
            "1f4b914a79eb2bb01c2ea694af626625    0\n",
            "03c358e326d99a3863e044c5d8e9fb50    0\n",
            "d36204de09c0c6084d55b1f484a23773    0\n",
            "f6f02545c1905a8c72c5bf006579996e    0\n",
            "ee1696df08c0ac6005e3b9442cdbbded    0\n",
            "1a619fcf3adfd91711699b7e2cf2c367    0\n",
            "80117354556efbf237f0020bea2f7e42    0\n",
            "c3ad773a264597f9f46c2d666e1a8b50    0\n",
            "74694a488312db91fcd56818fed8b3a6    0\n",
            "5455e1699025b025a3523aba4719e818    0\n",
            "dtype: int64\n",
            "session_id                          0\n",
            "song_id                             0\n",
            "artist_id                           0\n",
            "language_id                         0\n",
            "b856b6781d370a3645c6dde0c20b3597    0\n",
            "2eabe9f164346c7b3ff1bd23078f483e    0\n",
            "bb3d7b04b67d5aeb5ab145bdd70750da    0\n",
            "ce4db56f6a48426643b08038139a8a75    0\n",
            "43244ec4c30a0dad837d982892bc0c05    0\n",
            "bb737ea7450c3abbab1ff613a2c6309e    0\n",
            "5f2a134d2289a8a3de6663ee8e248c8a    0\n",
            "6ea61b86b8fff0e3a05bc73ea4eaf21f    0\n",
            "1d7c8bb87dcc1457ed90240c06f9ebdf    0\n",
            "abdc0a50aff67c591737bc6f57a36e09    0\n",
            "5d7d428b81ab3429f189bbc642548b53    0\n",
            "a2a4a0943fe2c5fe6891d9c34dca906f    0\n",
            "a3b51d979053a7f49511b9ab72ee8878    0\n",
            "e1d5802bb4e0f6ab79b2b9f4a5ff924b    0\n",
            "d9ab2ffb929a854e208efaf5297b7cf8    0\n",
            "c1d8909eff8a140e7bd0c11508f76dbe    0\n",
            "65aeeca3341ca1c6a2ed774aa4e22add    0\n",
            "09994f2b6bf22721e7379df4e22b1041    0\n",
            "ed514a72b48a9d15df7bc4c25eac2c67    0\n",
            "56203098bef705a44fee44ac0d9b7ef2    0\n",
            "23ae47469cc0a10de43c453ab59c87b4    0\n",
            "4c4ce52d6f6a0e495c407b584ef3e020    0\n",
            "7ed5eec2ea6f0208d27f78ef120e52fa    0\n",
            "b5e874310bf96c3fe29c54a01b982ad7    0\n",
            "d48233dd673e7ba524a5a0e3389d39b9    0\n",
            "398e2d0befb1c6979e77e5ff7c3fcf07    0\n",
            "157479e86322e5063bce2488bec94d88    0\n",
            "1619db5683958ba19927468990d5ba44    0\n",
            "1f4b914a79eb2bb01c2ea694af626625    0\n",
            "03c358e326d99a3863e044c5d8e9fb50    0\n",
            "d36204de09c0c6084d55b1f484a23773    0\n",
            "f6f02545c1905a8c72c5bf006579996e    0\n",
            "ee1696df08c0ac6005e3b9442cdbbded    0\n",
            "1a619fcf3adfd91711699b7e2cf2c367    0\n",
            "80117354556efbf237f0020bea2f7e42    0\n",
            "c3ad773a264597f9f46c2d666e1a8b50    0\n",
            "74694a488312db91fcd56818fed8b3a6    0\n",
            "5455e1699025b025a3523aba4719e818    0\n",
            "dtype: int64\n",
            "session_id                          0\n",
            "song_id                             0\n",
            "artist_id                           0\n",
            "language_id                         0\n",
            "b856b6781d370a3645c6dde0c20b3597    0\n",
            "2eabe9f164346c7b3ff1bd23078f483e    0\n",
            "bb3d7b04b67d5aeb5ab145bdd70750da    0\n",
            "ce4db56f6a48426643b08038139a8a75    0\n",
            "43244ec4c30a0dad837d982892bc0c05    0\n",
            "bb737ea7450c3abbab1ff613a2c6309e    0\n",
            "5f2a134d2289a8a3de6663ee8e248c8a    0\n",
            "6ea61b86b8fff0e3a05bc73ea4eaf21f    0\n",
            "1d7c8bb87dcc1457ed90240c06f9ebdf    0\n",
            "abdc0a50aff67c591737bc6f57a36e09    0\n",
            "5d7d428b81ab3429f189bbc642548b53    0\n",
            "a2a4a0943fe2c5fe6891d9c34dca906f    0\n",
            "a3b51d979053a7f49511b9ab72ee8878    0\n",
            "e1d5802bb4e0f6ab79b2b9f4a5ff924b    0\n",
            "d9ab2ffb929a854e208efaf5297b7cf8    0\n",
            "c1d8909eff8a140e7bd0c11508f76dbe    0\n",
            "65aeeca3341ca1c6a2ed774aa4e22add    0\n",
            "09994f2b6bf22721e7379df4e22b1041    0\n",
            "ed514a72b48a9d15df7bc4c25eac2c67    0\n",
            "56203098bef705a44fee44ac0d9b7ef2    0\n",
            "23ae47469cc0a10de43c453ab59c87b4    0\n",
            "4c4ce52d6f6a0e495c407b584ef3e020    0\n",
            "7ed5eec2ea6f0208d27f78ef120e52fa    0\n",
            "b5e874310bf96c3fe29c54a01b982ad7    0\n",
            "d48233dd673e7ba524a5a0e3389d39b9    0\n",
            "398e2d0befb1c6979e77e5ff7c3fcf07    0\n",
            "157479e86322e5063bce2488bec94d88    0\n",
            "1619db5683958ba19927468990d5ba44    0\n",
            "1f4b914a79eb2bb01c2ea694af626625    0\n",
            "03c358e326d99a3863e044c5d8e9fb50    0\n",
            "d36204de09c0c6084d55b1f484a23773    0\n",
            "f6f02545c1905a8c72c5bf006579996e    0\n",
            "ee1696df08c0ac6005e3b9442cdbbded    0\n",
            "1a619fcf3adfd91711699b7e2cf2c367    0\n",
            "80117354556efbf237f0020bea2f7e42    0\n",
            "c3ad773a264597f9f46c2d666e1a8b50    0\n",
            "74694a488312db91fcd56818fed8b3a6    0\n",
            "5455e1699025b025a3523aba4719e818    0\n",
            "dtype: int64\n"
          ]
        }
      ]
    },
    {
      "cell_type": "markdown",
      "source": [
        "# Preprocess\n"
      ],
      "metadata": {
        "id": "FO_u7vEgjwNB"
      }
    },
    {
      "cell_type": "code",
      "source": [
        "sessid = []\n",
        "itm = testing.groups.items()\n",
        "for sess_id, group_indices in itm:\n",
        "    sessid.append(sess_id)\n",
        "sessid = pd.Series(sessid)"
      ],
      "metadata": {
        "execution": {
          "iopub.status.busy": "2023-12-23T17:36:00.474958Z",
          "iopub.execute_input": "2023-12-23T17:36:00.475799Z",
          "iopub.status.idle": "2023-12-23T17:36:00.571139Z",
          "shell.execute_reply.started": "2023-12-23T17:36:00.475764Z",
          "shell.execute_reply": "2023-12-23T17:36:00.570135Z"
        },
        "trusted": true,
        "id": "vjNQ0Rqb6jBs"
      },
      "execution_count": null,
      "outputs": []
    },
    {
      "cell_type": "code",
      "source": [
        "t = {}\n",
        "k=0\n",
        "s=100000\n",
        "#s=1\n",
        "size = len(song_data)/20\n",
        "itm = training.groups.items()\n",
        "for sess_id, group_indices in itm:\n",
        "    tmp = song_data.loc[group_indices]\n",
        "    tmp.drop(columns = ['session_id'],inplace=True)\n",
        "    tmp = tmp.to_numpy().flatten()\n",
        "    tmp = tmp.tolist()\n",
        "    t[sess_id] = tmp\n",
        "    if k%s==0 and k>=s:\n",
        "      print(k,k/size*100)\n",
        "    k+=1"
      ],
      "metadata": {
        "id": "YoTJmgCa8whc",
        "trusted": true,
        "colab": {
          "base_uri": "https://localhost:8080/"
        },
        "outputId": "d25cd0e4-91ec-4fbf-8808-5b0e0706ec76"
      },
      "execution_count": null,
      "outputs": [
        {
          "output_type": "stream",
          "name": "stdout",
          "text": [
            "100000 17.474605030239804\n",
            "200000 34.94921006047961\n",
            "300000 52.423815090719415\n",
            "400000 69.89842012095922\n",
            "500000 87.37302515119903\n"
          ]
        }
      ]
    },
    {
      "cell_type": "code",
      "source": [
        "te = {}\n",
        "k=0\n",
        "s=100000\n",
        "#s=1\n",
        "size = len(song_test)/20\n",
        "itm = testing.groups.items()\n",
        "for sess_id, group_indices in itm:\n",
        "    tmp = song_test.loc[group_indices]\n",
        "    tmp.drop(columns = ['session_id'],inplace=True)\n",
        "    tmp = tmp.to_numpy().flatten()\n",
        "    tmp = tmp.tolist()\n",
        "    te[sess_id] = tmp\n",
        "    if k%s==0 and k>=s:\n",
        "      print(k,k/size*100)\n",
        "    k+=1"
      ],
      "metadata": {
        "colab": {
          "base_uri": "https://localhost:8080/"
        },
        "id": "CJE6pzLuYeE2",
        "outputId": "c28d32c2-ffe5-4764-8510-29636db45b2f"
      },
      "execution_count": null,
      "outputs": [
        {
          "output_type": "stream",
          "name": "stdout",
          "text": [
            "100000 69.89878655706538\n"
          ]
        }
      ]
    },
    {
      "cell_type": "code",
      "source": [
        "v = {}\n",
        "k=0\n",
        "s=100000\n",
        "# s=1\n",
        "size = len(song_vali)/5\n",
        "itm = targeting.groups.items()\n",
        "\n",
        "\n",
        "for sess_id, group_indices in itm:\n",
        "    tmp = song_vali.loc[group_indices, 'song_id'].to_numpy()\n",
        "    tmp = tmp.tolist()\n",
        "    v[sess_id] = tmp\n",
        "    if k%s==0 and k>=s:\n",
        "      print(k,k/size*100)\n",
        "    k+=1\n"
      ],
      "metadata": {
        "execution": {
          "iopub.status.busy": "2023-12-22T19:38:45.203156Z",
          "iopub.execute_input": "2023-12-22T19:38:45.204233Z"
        },
        "id": "dFwPCwIh8whc",
        "trusted": true,
        "colab": {
          "base_uri": "https://localhost:8080/"
        },
        "outputId": "1960fd96-c7ae-4c38-e947-12feb818cef0"
      },
      "execution_count": null,
      "outputs": [
        {
          "output_type": "stream",
          "name": "stdout",
          "text": [
            "100000 17.474605030239804\n",
            "200000 34.94921006047961\n",
            "300000 52.423815090719415\n",
            "400000 69.89842012095922\n",
            "500000 87.37302515119903\n"
          ]
        }
      ]
    },
    {
      "cell_type": "code",
      "source": [
        "df_t = pd.DataFrame.from_dict(t)\n",
        "df_te = pd.DataFrame(te)\n",
        "df_v = pd.DataFrame.from_dict(v)\n",
        "df_v"
      ],
      "metadata": {
        "id": "XKVr6SEiU0R4",
        "colab": {
          "base_uri": "https://localhost:8080/",
          "height": 235
        },
        "outputId": "3803f261-6c1f-4322-fa2f-ac0cbb75aca2"
      },
      "execution_count": null,
      "outputs": [
        {
          "output_type": "execute_result",
          "data": {
            "text/plain": [
              "   0       1       2       3       4       5       6       7       8       \\\n",
              "0  714573  827206  649931  993467  987875  101458  481537  879764  321975   \n",
              "1   66954  523535  541297  912199  617147  222834   86305  167308  183542   \n",
              "2    4081  954908  792701  993467  987875  910490  667533  879764  559588   \n",
              "3  140308  103310  317012  912199  617147  727800  973667  958286  146397   \n",
              "4  862634  360635  867247  993467  723216  204125   27481  167308  918698   \n",
              "\n",
              "   9       ...  572249  572250  572251  572252  572253  572254  572255  \\\n",
              "0   92839  ...   53839  776460  563546  675403  502061  243958  727401   \n",
              "1  745216  ...  367695  901098  563546  760641  478645  647039  890711   \n",
              "2  842457  ...  327633  264931  563546  817777  898521  374691  786880   \n",
              "3  538151  ...  692564  369117  563546  212330  386071  239341  985016   \n",
              "4  412091  ...  569619  219772  563546  694460  990338  340380  985016   \n",
              "\n",
              "   572256  572257  572258  \n",
              "0  154284  785711  865600  \n",
              "1  409034  685466  313485  \n",
              "2  680838  842585  408659  \n",
              "3  690473  973141   42347  \n",
              "4    7274  842585  365513  \n",
              "\n",
              "[5 rows x 572259 columns]"
            ],
            "text/html": [
              "<div>\n",
              "<style scoped>\n",
              "    .dataframe tbody tr th:only-of-type {\n",
              "        vertical-align: middle;\n",
              "    }\n",
              "\n",
              "    .dataframe tbody tr th {\n",
              "        vertical-align: top;\n",
              "    }\n",
              "\n",
              "    .dataframe thead th {\n",
              "        text-align: right;\n",
              "    }\n",
              "</style>\n",
              "<table border=\"1\" class=\"dataframe\">\n",
              "  <thead>\n",
              "    <tr style=\"text-align: right;\">\n",
              "      <th></th>\n",
              "      <th>0</th>\n",
              "      <th>1</th>\n",
              "      <th>2</th>\n",
              "      <th>3</th>\n",
              "      <th>4</th>\n",
              "      <th>5</th>\n",
              "      <th>6</th>\n",
              "      <th>7</th>\n",
              "      <th>8</th>\n",
              "      <th>9</th>\n",
              "      <th>...</th>\n",
              "      <th>572249</th>\n",
              "      <th>572250</th>\n",
              "      <th>572251</th>\n",
              "      <th>572252</th>\n",
              "      <th>572253</th>\n",
              "      <th>572254</th>\n",
              "      <th>572255</th>\n",
              "      <th>572256</th>\n",
              "      <th>572257</th>\n",
              "      <th>572258</th>\n",
              "    </tr>\n",
              "  </thead>\n",
              "  <tbody>\n",
              "    <tr>\n",
              "      <th>0</th>\n",
              "      <td>714573</td>\n",
              "      <td>827206</td>\n",
              "      <td>649931</td>\n",
              "      <td>993467</td>\n",
              "      <td>987875</td>\n",
              "      <td>101458</td>\n",
              "      <td>481537</td>\n",
              "      <td>879764</td>\n",
              "      <td>321975</td>\n",
              "      <td>92839</td>\n",
              "      <td>...</td>\n",
              "      <td>53839</td>\n",
              "      <td>776460</td>\n",
              "      <td>563546</td>\n",
              "      <td>675403</td>\n",
              "      <td>502061</td>\n",
              "      <td>243958</td>\n",
              "      <td>727401</td>\n",
              "      <td>154284</td>\n",
              "      <td>785711</td>\n",
              "      <td>865600</td>\n",
              "    </tr>\n",
              "    <tr>\n",
              "      <th>1</th>\n",
              "      <td>66954</td>\n",
              "      <td>523535</td>\n",
              "      <td>541297</td>\n",
              "      <td>912199</td>\n",
              "      <td>617147</td>\n",
              "      <td>222834</td>\n",
              "      <td>86305</td>\n",
              "      <td>167308</td>\n",
              "      <td>183542</td>\n",
              "      <td>745216</td>\n",
              "      <td>...</td>\n",
              "      <td>367695</td>\n",
              "      <td>901098</td>\n",
              "      <td>563546</td>\n",
              "      <td>760641</td>\n",
              "      <td>478645</td>\n",
              "      <td>647039</td>\n",
              "      <td>890711</td>\n",
              "      <td>409034</td>\n",
              "      <td>685466</td>\n",
              "      <td>313485</td>\n",
              "    </tr>\n",
              "    <tr>\n",
              "      <th>2</th>\n",
              "      <td>4081</td>\n",
              "      <td>954908</td>\n",
              "      <td>792701</td>\n",
              "      <td>993467</td>\n",
              "      <td>987875</td>\n",
              "      <td>910490</td>\n",
              "      <td>667533</td>\n",
              "      <td>879764</td>\n",
              "      <td>559588</td>\n",
              "      <td>842457</td>\n",
              "      <td>...</td>\n",
              "      <td>327633</td>\n",
              "      <td>264931</td>\n",
              "      <td>563546</td>\n",
              "      <td>817777</td>\n",
              "      <td>898521</td>\n",
              "      <td>374691</td>\n",
              "      <td>786880</td>\n",
              "      <td>680838</td>\n",
              "      <td>842585</td>\n",
              "      <td>408659</td>\n",
              "    </tr>\n",
              "    <tr>\n",
              "      <th>3</th>\n",
              "      <td>140308</td>\n",
              "      <td>103310</td>\n",
              "      <td>317012</td>\n",
              "      <td>912199</td>\n",
              "      <td>617147</td>\n",
              "      <td>727800</td>\n",
              "      <td>973667</td>\n",
              "      <td>958286</td>\n",
              "      <td>146397</td>\n",
              "      <td>538151</td>\n",
              "      <td>...</td>\n",
              "      <td>692564</td>\n",
              "      <td>369117</td>\n",
              "      <td>563546</td>\n",
              "      <td>212330</td>\n",
              "      <td>386071</td>\n",
              "      <td>239341</td>\n",
              "      <td>985016</td>\n",
              "      <td>690473</td>\n",
              "      <td>973141</td>\n",
              "      <td>42347</td>\n",
              "    </tr>\n",
              "    <tr>\n",
              "      <th>4</th>\n",
              "      <td>862634</td>\n",
              "      <td>360635</td>\n",
              "      <td>867247</td>\n",
              "      <td>993467</td>\n",
              "      <td>723216</td>\n",
              "      <td>204125</td>\n",
              "      <td>27481</td>\n",
              "      <td>167308</td>\n",
              "      <td>918698</td>\n",
              "      <td>412091</td>\n",
              "      <td>...</td>\n",
              "      <td>569619</td>\n",
              "      <td>219772</td>\n",
              "      <td>563546</td>\n",
              "      <td>694460</td>\n",
              "      <td>990338</td>\n",
              "      <td>340380</td>\n",
              "      <td>985016</td>\n",
              "      <td>7274</td>\n",
              "      <td>842585</td>\n",
              "      <td>365513</td>\n",
              "    </tr>\n",
              "  </tbody>\n",
              "</table>\n",
              "<p>5 rows × 572259 columns</p>\n",
              "</div>"
            ]
          },
          "metadata": {},
          "execution_count": 99
        }
      ]
    },
    {
      "cell_type": "code",
      "source": [
        "X = df_t.transpose()\n",
        "y = df_v.transpose()\n",
        "testX = df_te.transpose()"
      ],
      "metadata": {
        "execution": {
          "iopub.status.busy": "2023-12-22T19:34:38.944385Z",
          "iopub.execute_input": "2023-12-22T19:34:38.945200Z",
          "iopub.status.idle": "2023-12-22T19:34:39.160131Z",
          "shell.execute_reply.started": "2023-12-22T19:34:38.945161Z",
          "shell.execute_reply": "2023-12-22T19:34:39.158777Z"
        },
        "id": "HgJDmrNX8whd",
        "trusted": true
      },
      "execution_count": null,
      "outputs": []
    },
    {
      "cell_type": "markdown",
      "source": [
        "# Train"
      ],
      "metadata": {
        "id": "igY8Qj8J7a7u"
      }
    },
    {
      "cell_type": "code",
      "source": [
        "X_train, X_val, Y_train, Y_val = train_test_split(X, y, test_size = 0.25, random_state = 0)"
      ],
      "metadata": {
        "execution": {
          "iopub.status.busy": "2023-12-23T17:48:44.612804Z",
          "iopub.status.idle": "2023-12-23T17:48:44.613140Z",
          "shell.execute_reply.started": "2023-12-23T17:48:44.612971Z",
          "shell.execute_reply": "2023-12-23T17:48:44.612987Z"
        },
        "trusted": true,
        "id": "gosleryf6jBy"
      },
      "execution_count": null,
      "outputs": []
    },
    {
      "cell_type": "code",
      "source": [
        "from sklearn.neighbors import KNeighborsRegressor"
      ],
      "metadata": {
        "id": "sc_akcSb_WCY"
      },
      "execution_count": null,
      "outputs": []
    },
    {
      "cell_type": "code",
      "source": [
        "knn = KNeighborsRegressor(n_neighbors=5, weights='distance', leaf_size=30, p=2, n_jobs=12)\n",
        "knn = knn.fit(X_train, Y_train)\n",
        "knn_pred = knn.predict(testX)"
      ],
      "metadata": {
        "id": "c8MMwv1_yibK"
      },
      "execution_count": null,
      "outputs": []
    },
    {
      "cell_type": "code",
      "source": [
        "def unmapping_fun(x):\n",
        "  if x not in unmapping:\n",
        "    t = np.random.randint(0, len(unmapping))\n",
        "    return unmapping[t]\n",
        "  else:\n",
        "    return unmapping[x]"
      ],
      "metadata": {
        "id": "tSweX-1Ml4bQ"
      },
      "execution_count": null,
      "outputs": []
    },
    {
      "cell_type": "code",
      "source": [
        "knn_pred = pd.DataFrame(knn_pred).astype(int)\n",
        "for i in knn_pred.columns:\n",
        "  knn_pred[i] = knn_pred[i].map(unmapping_fun)"
      ],
      "metadata": {
        "id": "NVj-LNxebE3X"
      },
      "execution_count": null,
      "outputs": []
    },
    {
      "cell_type": "code",
      "source": [
        "session_test = sessid.map(sess_unmapping)\n",
        "knn_pred = pd.concat([session_test, knn_pred], axis=1)\n",
        "knn_pred.to_csv(f'{path}/subknn.csv', header=['session_id', 'top1', 'top2', 'top3', 'top4', 'top5'], index=False)"
      ],
      "metadata": {
        "id": "4z6VFBGnbHsn"
      },
      "execution_count": null,
      "outputs": []
    },
    {
      "cell_type": "markdown",
      "source": [
        "# method 2"
      ],
      "metadata": {
        "id": "jKR659bXs3Nh"
      }
    },
    {
      "cell_type": "markdown",
      "source": [
        "## import\n",
        "download cudf for speed up pandas"
      ],
      "metadata": {
        "id": "XqT3o9mBtb7b"
      }
    },
    {
      "cell_type": "code",
      "execution_count": null,
      "metadata": {
        "execution": {
          "iopub.execute_input": "2023-12-22T19:04:46.275700Z",
          "iopub.status.busy": "2023-12-22T19:04:46.275313Z",
          "iopub.status.idle": "2023-12-22T19:04:49.070060Z",
          "shell.execute_reply": "2023-12-22T19:04:49.069033Z"
        },
        "papermill": {
          "duration": 2.804766,
          "end_time": "2023-12-22T19:04:49.072516",
          "exception": false,
          "start_time": "2023-12-22T19:04:46.267750",
          "status": "completed"
        },
        "tags": [],
        "id": "2a55c4d4",
        "outputId": "bf501ffe-6830-4e48-fda2-acc9c7a27a74"
      },
      "outputs": [
        {
          "name": "stdout",
          "output_type": "stream",
          "text": [
            "cp: cannot stat '../input/rapids/rapids.0.14.0': No such file or directory\r\n",
            "tar (child): rapids.tar.gz: Cannot open: No such file or directory\r\n",
            "tar (child): Error is not recoverable: exiting now\r\n",
            "tar: Child returned status 2\r\n",
            "tar: Error is not recoverable: exiting now\r\n",
            "cp: cannot stat '/opt/conda/envs/rapids/lib/libxgboost.so': No such file or directory\r\n"
          ]
        }
      ],
      "source": [
        "import sys\n",
        "!cp ../input/rapids/rapids.0.14.0 /opt/conda/envs/rapids.tar.gz\n",
        "!cd /opt/conda/envs/ && tar -xzvf rapids.tar.gz > /dev/null\n",
        "sys.path = [\"/opt/conda/envs/rapids/lib/python3.10/site-packages\"] + sys.path\n",
        "sys.path = [\"/opt/conda/envs/rapids/lib/python3.10\"] + sys.path\n",
        "sys.path = [\"/opt/conda/envs/rapids/lib\"] + sys.path\n",
        "!cp /opt/conda/envs/rapids/lib/libxgboost.so /opt/conda/lib/\n",
        "import warnings\n",
        "warnings.filterwarnings('ignore')\n",
        "import numpy as np\n",
        "import pandas as pd\n",
        "import matplotlib as plt"
      ]
    },
    {
      "cell_type": "markdown",
      "source": [
        "## read file"
      ],
      "metadata": {
        "id": "nqWPxCm_tr76"
      }
    },
    {
      "cell_type": "code",
      "execution_count": null,
      "metadata": {
        "execution": {
          "iopub.execute_input": "2023-12-22T19:04:49.865113Z",
          "iopub.status.busy": "2023-12-22T19:04:49.864685Z",
          "iopub.status.idle": "2023-12-22T19:05:05.008462Z",
          "shell.execute_reply": "2023-12-22T19:05:05.007409Z"
        },
        "papermill": {
          "duration": 15.152919,
          "end_time": "2023-12-22T19:05:05.011042",
          "exception": false,
          "start_time": "2023-12-22T19:04:49.858123",
          "status": "completed"
        },
        "tags": [],
        "id": "5ef2ef32"
      },
      "outputs": [],
      "source": [
        "file_path = \"/kaggle/input/datagame/datagame-2023/\"\n",
        "train = pd.read_parquet(f\"{file_path}/label_train_source.parquet\")\n",
        "test = pd.read_parquet(f\"{file_path}/label_test_source.parquet\")\n",
        "testg = test.groupby('session_id')\n",
        "traing = train.groupby('session_id')\n",
        "import cudf as pd\n",
        "\n",
        "train = pd.read_parquet(f\"{file_path}/label_train_source.parquet\")\n",
        "test = pd.read_parquet(f\"{file_path}/label_test_source.parquet\")\n",
        "target = pd.read_parquet(f\"{file_path}/label_train_target.parquet\")\n",
        "meta_song = pd.read_parquet(f\"{file_path}/meta_song.parquet\")\n",
        "trainR = train[\"song_id\"]\n",
        "targetR = target[\"song_id\"]\n",
        "testR = test[\"song_id\"]\n",
        "rank = pd.concat([trainR,targetR,testR])"
      ]
    },
    {
      "cell_type": "markdown",
      "source": [
        "## create rank\n",
        "for random"
      ],
      "metadata": {
        "id": "SqXQXK3stzwh"
      }
    },
    {
      "cell_type": "code",
      "execution_count": null,
      "metadata": {
        "execution": {
          "iopub.execute_input": "2023-12-22T19:05:05.036627Z",
          "iopub.status.busy": "2023-12-22T19:05:05.036053Z",
          "iopub.status.idle": "2023-12-22T19:05:05.117825Z",
          "shell.execute_reply": "2023-12-22T19:05:05.116796Z"
        },
        "papermill": {
          "duration": 0.091528,
          "end_time": "2023-12-22T19:05:05.120361",
          "exception": false,
          "start_time": "2023-12-22T19:05:05.028833",
          "status": "completed"
        },
        "tags": [],
        "id": "180e4e6e"
      },
      "outputs": [],
      "source": [
        "r = rank.value_counts()\n",
        "rank_result = r.rank(ascending=False, method='dense')\n",
        "ranked = pd.DataFrame({'Value': r.index, 'Count': r.values, 'Rank': rank_result.values})\n"
      ]
    },
    {
      "cell_type": "markdown",
      "source": [
        "## model"
      ],
      "metadata": {
        "id": "v_LvHrift4Ak"
      }
    },
    {
      "cell_type": "code",
      "source": [
        "r = {}\n",
        "c = 0\n",
        "def model45a():\n",
        "    size = len(test)/20\n",
        "    fill = ranked[\"Value\"][:5].to_numpy()\n",
        "    k = 0\n",
        "    c=0\n",
        "    s=10000\n",
        "    itm = testg.groups.items()\n",
        "    for sess_id, group_indices in itm:\n",
        "        tmp = test.loc[group_indices, \"song_id\"].to_numpy()\n",
        "        temp = pd.Series(tmp).value_counts()\n",
        "        temp = temp[temp>1].index[:5]\n",
        "        length = len(temp)\n",
        "        if length<5:\n",
        "#             print(fill)\n",
        "#             print(temp)\n",
        "            n = 5-length\n",
        "            c += n\n",
        "\n",
        "            rnd = ranked[~ranked[\"Value\"].isin(temp)]\n",
        "            fill = ranked.sample(n)[\"Value\"].to_numpy()\n",
        "            temp = np.append(temp.to_numpy(),fill)\n",
        "        r[sess_id] = temp\n",
        "        if k%s==0 and k>=s:\n",
        "#             break\n",
        "            print(k,k/size*100)\n",
        "        k+=1\n",
        "%time model45a()\n",
        "sub = pd.DataFrame.from_dict(r).transpose()\n",
        "sub.to_csv(\"./sub.csv\",header=['session_id', 'top1', 'top2', 'top3', 'top4', 'top5'])\n",
        "sub"
      ],
      "metadata": {
        "execution": {
          "iopub.status.busy": "2023-12-24T12:22:32.387267Z",
          "iopub.execute_input": "2023-12-24T12:22:32.387987Z",
          "iopub.status.idle": "2023-12-24T13:33:50.500527Z",
          "shell.execute_reply.started": "2023-12-24T12:22:32.387950Z",
          "shell.execute_reply": "2023-12-24T13:33:50.499527Z"
        },
        "trusted": true,
        "id": "LZNMmAQSufAH",
        "outputId": "09d1b4bd-704c-47b4-e6c9-4895ec648239"
      },
      "execution_count": null,
      "outputs": [
        {
          "name": "stdout",
          "text": "10000 6.989878655706537\n20000 13.979757311413074\n30000 20.96963596711961\n40000 27.95951462282615\n50000 34.94939327853269\n60000 41.93927193423922\n70000 48.929150589945756\n80000 55.9190292456523\n90000 62.90890790135884\n100000 69.89878655706538\n110000 76.88866521277191\n120000 83.87854386847845\n130000 90.86842252418498\n140000 97.85830117989151\nCPU times: user 51min 24s, sys: 19min 50s, total: 1h 11min 14s\nWall time: 1h 10min 34s\n0\n",
          "output_type": "stream"
        },
        {
          "execution_count": 7,
          "output_type": "execute_result",
          "data": {
            "text/plain": "                                       0                                 1  \\\n8       b429598c3eec37ec5755f28949bd6e73  97d3de77e15ff6140529932da474ac0c   \n9       3c8127d8f24589c12336d5083ba9c492  555b8220459e95669be059c90c355d64   \n18      43ff50171dcf94f2ad0e775ef1a6c707  66e6cbab82630d69acca2115157fbcba   \n19      6c33e2032630dcafde3a4fd5ae196dc2  45a351c51fe0d8274f0303266a9e0c7d   \n28      7873629643d3d71732b639e37c381d00  febdbc34c0543eb8c2106d8831929d4d   \n...                                  ...                               ...   \n715299  3dbeb7f4350afdacfe4ebbf3d314a6e3  67682a4ad52115434285d25cdad55a91   \n715308  34af8c382bee0cb49c80aa94a3d832d7  8c3fd93c634c05315953692ae207a963   \n715309  b61db567d0f80c97ed0575c60f5de893  beca57431ebd106922926e35511600c2   \n715318  336ffd7f841c91e7cff653a176a63ae8  f71e4ef635d80a0357f3c4bb1cf4be21   \n715319  700a3bbe2b689e2da396bee4daafa4b2  a733420df48309f3c7df3296ba2125ff   \n\n                                       2                                 3  \\\n8       2ef66cf1db93024c492dac62bf6fc5e2  dd612f48085759fc2ce953ecffd17793   \n9       31524bfa5a1e9a8cc9ad3a54b5d5d1fc  0f4ecca1dc979abdcc4760553be15bf0   \n18      52e71ff87ac2dad3e11b807b481b9c5b  134c6056b5ac337ecdd22a734f0f15d8   \n19      56a3d0be4364e8812518eeb22d0519ca  81e9fe5eb6f896d703936ec14b7795e3   \n28      adf1110735db80f00fc3cc9283f6ce64  db02ec2cada684ecd1be2fc731860637   \n...                                  ...                               ...   \n715299  c489727635800ce9fa0a5d9f10db0c52  8a2fc1a4b86c6b79a6186ee6b54d79e0   \n715308  5f8ad3ce1ad2549f241192c6428a9421  02c74a524b6c0883e7200ef4f1ac21ed   \n715309  71976bda1bbdbc1903e18f73e98e7753  35bf614519bd2c2e2e363d3696536c43   \n715318  019bf57f7e2694ce94d8c8b15a7883b5  09e9bb67129b50a13f6eb0c352715e15   \n715319  ed765f0a6ac2738cd223e0de0d0e1fe5  ffc5997f3dfcda47c8bf34a9cbf3d37a   \n\n                                       4  \n8       464cf913b18246d713ad20ae37e02cd1  \n9       bb9c470243d89b63fd92f4b8d822aa22  \n18      9efd4fe6838c54c5e9a3fef99c4eb54e  \n19      2054dfc2ada3c4babe0c488af86a38d3  \n28      324e236a83b645a5e746604f0d7f9cee  \n...                                  ...  \n715299  af894be6f2cec95b9de30b0a128c83bd  \n715308  da341b2b1cd5b1caf4d604d9766a04d9  \n715309  5fffdf9f1d562b01a4d4db033e31658e  \n715318  3888e64ba8a21cbf92199d49d37563d5  \n715319  a2a0b4274fff88156701c3b2a454b393  \n\n[143064 rows x 5 columns]",
            "text/html": "<div>\n<style scoped>\n    .dataframe tbody tr th:only-of-type {\n        vertical-align: middle;\n    }\n\n    .dataframe tbody tr th {\n        vertical-align: top;\n    }\n\n    .dataframe thead th {\n        text-align: right;\n    }\n</style>\n<table border=\"1\" class=\"dataframe\">\n  <thead>\n    <tr style=\"text-align: right;\">\n      <th></th>\n      <th>0</th>\n      <th>1</th>\n      <th>2</th>\n      <th>3</th>\n      <th>4</th>\n    </tr>\n  </thead>\n  <tbody>\n    <tr>\n      <th>8</th>\n      <td>b429598c3eec37ec5755f28949bd6e73</td>\n      <td>97d3de77e15ff6140529932da474ac0c</td>\n      <td>2ef66cf1db93024c492dac62bf6fc5e2</td>\n      <td>dd612f48085759fc2ce953ecffd17793</td>\n      <td>464cf913b18246d713ad20ae37e02cd1</td>\n    </tr>\n    <tr>\n      <th>9</th>\n      <td>3c8127d8f24589c12336d5083ba9c492</td>\n      <td>555b8220459e95669be059c90c355d64</td>\n      <td>31524bfa5a1e9a8cc9ad3a54b5d5d1fc</td>\n      <td>0f4ecca1dc979abdcc4760553be15bf0</td>\n      <td>bb9c470243d89b63fd92f4b8d822aa22</td>\n    </tr>\n    <tr>\n      <th>18</th>\n      <td>43ff50171dcf94f2ad0e775ef1a6c707</td>\n      <td>66e6cbab82630d69acca2115157fbcba</td>\n      <td>52e71ff87ac2dad3e11b807b481b9c5b</td>\n      <td>134c6056b5ac337ecdd22a734f0f15d8</td>\n      <td>9efd4fe6838c54c5e9a3fef99c4eb54e</td>\n    </tr>\n    <tr>\n      <th>19</th>\n      <td>6c33e2032630dcafde3a4fd5ae196dc2</td>\n      <td>45a351c51fe0d8274f0303266a9e0c7d</td>\n      <td>56a3d0be4364e8812518eeb22d0519ca</td>\n      <td>81e9fe5eb6f896d703936ec14b7795e3</td>\n      <td>2054dfc2ada3c4babe0c488af86a38d3</td>\n    </tr>\n    <tr>\n      <th>28</th>\n      <td>7873629643d3d71732b639e37c381d00</td>\n      <td>febdbc34c0543eb8c2106d8831929d4d</td>\n      <td>adf1110735db80f00fc3cc9283f6ce64</td>\n      <td>db02ec2cada684ecd1be2fc731860637</td>\n      <td>324e236a83b645a5e746604f0d7f9cee</td>\n    </tr>\n    <tr>\n      <th>...</th>\n      <td>...</td>\n      <td>...</td>\n      <td>...</td>\n      <td>...</td>\n      <td>...</td>\n    </tr>\n    <tr>\n      <th>715299</th>\n      <td>3dbeb7f4350afdacfe4ebbf3d314a6e3</td>\n      <td>67682a4ad52115434285d25cdad55a91</td>\n      <td>c489727635800ce9fa0a5d9f10db0c52</td>\n      <td>8a2fc1a4b86c6b79a6186ee6b54d79e0</td>\n      <td>af894be6f2cec95b9de30b0a128c83bd</td>\n    </tr>\n    <tr>\n      <th>715308</th>\n      <td>34af8c382bee0cb49c80aa94a3d832d7</td>\n      <td>8c3fd93c634c05315953692ae207a963</td>\n      <td>5f8ad3ce1ad2549f241192c6428a9421</td>\n      <td>02c74a524b6c0883e7200ef4f1ac21ed</td>\n      <td>da341b2b1cd5b1caf4d604d9766a04d9</td>\n    </tr>\n    <tr>\n      <th>715309</th>\n      <td>b61db567d0f80c97ed0575c60f5de893</td>\n      <td>beca57431ebd106922926e35511600c2</td>\n      <td>71976bda1bbdbc1903e18f73e98e7753</td>\n      <td>35bf614519bd2c2e2e363d3696536c43</td>\n      <td>5fffdf9f1d562b01a4d4db033e31658e</td>\n    </tr>\n    <tr>\n      <th>715318</th>\n      <td>336ffd7f841c91e7cff653a176a63ae8</td>\n      <td>f71e4ef635d80a0357f3c4bb1cf4be21</td>\n      <td>019bf57f7e2694ce94d8c8b15a7883b5</td>\n      <td>09e9bb67129b50a13f6eb0c352715e15</td>\n      <td>3888e64ba8a21cbf92199d49d37563d5</td>\n    </tr>\n    <tr>\n      <th>715319</th>\n      <td>700a3bbe2b689e2da396bee4daafa4b2</td>\n      <td>a733420df48309f3c7df3296ba2125ff</td>\n      <td>ed765f0a6ac2738cd223e0de0d0e1fe5</td>\n      <td>ffc5997f3dfcda47c8bf34a9cbf3d37a</td>\n      <td>a2a0b4274fff88156701c3b2a454b393</td>\n    </tr>\n  </tbody>\n</table>\n<p>143064 rows × 5 columns</p>\n</div>"
          },
          "metadata": {}
        }
      ]
    }
  ]
}