{
 "cells": [
  {
   "cell_type": "code",
   "execution_count": null,
   "metadata": {},
   "outputs": [],
   "source": [
    "import numpy as np\n",
    "import pandas as pd\n",
    "import matplotlib as plt"
   ]
  },
  {
   "cell_type": "code",
   "execution_count": null,
   "metadata": {},
   "outputs": [],
   "source": [
    "file_path = \"datagame-2023/\"\n",
    "train = pd.read_parquet(f\"{file_path}/label_train_source.parquet\")\n",
    "test = pd.read_parquet(f\"{file_path}/label_test_source.parquet\")\n",
    "target = pd.read_parquet(f\"{file_path}/label_train_target.parquet\")\n",
    "meta_song = pd.read_parquet(f\"{file_path}/meta_song.parquet\")\n",
    "trainR = train[\"song_id\"]\n",
    "targetR = target[\"song_id\"]\n",
    "testR = test[\"song_id\"]\n",
    "rank = pd.concat([trainR,targetR,testR])"
   ]
  },
  {
   "cell_type": "code",
   "execution_count": null,
   "metadata": {},
   "outputs": [],
   "source": [
    "r = rank.value_counts()\n",
    "rank_result = r.rank(ascending=False, method='dense')\n",
    "ranked = pd.DataFrame({'Value': r.index, 'Count': r.values, 'Rank': rank_result.values})\n"
   ]
  },
  {
   "cell_type": "code",
   "execution_count": null,
   "metadata": {},
   "outputs": [],
   "source": [
    "result = {}\n",
    "def model():\n",
    "    # baseline ....\n",
    "    for i in range(0,len(test),20):\n",
    "        tmp = []\n",
    "        rng = 0\n",
    "        if i%1000==0 and i>=1000:print(i)\n",
    "        for j in range(20):\n",
    "            idx = i+j\n",
    "            rng = max(rng,int(ranked[ranked[\"Value\"]==test[\"song_id\"][idx]][\"Rank\"].iloc[0]))\n",
    "            song_id = test[\"song_id\"][idx]\n",
    "            if song_id in tmp:\n",
    "                # print(len(tmp))\n",
    "                try:\n",
    "                    temp = result[test[\"session_id\"][idx]]\n",
    "                    if song_id not in temp:\n",
    "                        # print(\"jizz\")\n",
    "                        result[test[\"session_id\"][idx]].append(song_id)\n",
    "                except:\n",
    "                    result[test[\"session_id\"][idx]] = [song_id]\n",
    "                    # result[test[\"session_id\"][idx]].append(test[\"song_id\"][idx])\n",
    "            tmp.append(song_id)\n",
    "        if rng==0: rng = len(ranked) \n",
    "        try:\n",
    "            length = len(result[test[\"session_id\"][idx]])\n",
    "            if length<5:\n",
    "                # print(\"wtf\")\n",
    "                # print(len(result[test[\"session_id\"][idx]]))\n",
    "                n = 5-length\n",
    "                rnd = ranked[:rng]\n",
    "                # print(n==5,i)\n",
    "                rnd = rnd[~rnd[\"Value\"].isin(result[test[\"session_id\"][idx]])]\n",
    "                # print(\"wwwwwwwwwtttttf\")\n",
    "                result[test[\"session_id\"][idx]].extend(rnd.sample(n)[\"Value\"].to_list())\n",
    "                # print(len(result[test[\"session_id\"][idx]]),i)\n",
    "            else:\n",
    "                pass\n",
    "                # print(len(result[test[\"session_id\"][idx]]),i)\n",
    "        except:\n",
    "            if rng>5:\n",
    "                rnd = ranked[:rng]\n",
    "            else:\n",
    "                rnd = ranked[:]\n",
    "                # print(n==5,i)\n",
    "            n=5\n",
    "            # print(len(rnd))\n",
    "            result[test[\"session_id\"][idx]]= rnd.sample(n)[\"Value\"].to_list()\n",
    "            # print(len(result[test[\"session_id\"][idx]]),i)"
   ]
  }
 ],
 "metadata": {
  "kernelspec": {
   "display_name": "data_science",
   "language": "python",
   "name": "data_science"
  },
  "language_info": {
   "name": "python",
   "version": "3.11.5"
  }
 },
 "nbformat": 4,
 "nbformat_minor": 2
}
